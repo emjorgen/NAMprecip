{
  "nbformat": 4,
  "nbformat_minor": 0,
  "metadata": {
    "colab": {
      "provenance": [],
      "authorship_tag": "ABX9TyM+dk9UtfmKWSg7tqPY9bbl",
      "include_colab_link": true
    },
    "kernelspec": {
      "name": "python3",
      "display_name": "Python 3"
    },
    "language_info": {
      "name": "python"
    },
    "accelerator": "GPU",
    "gpuClass": "standard"
  },
  "cells": [
    {
      "cell_type": "markdown",
      "metadata": {
        "id": "view-in-github",
        "colab_type": "text"
      },
      "source": [
        "<a href=\"https://colab.research.google.com/github/emjorgen/NAMprecip/blob/main/NAM_Z3_IVT.ipynb\" target=\"_parent\"><img src=\"https://colab.research.google.com/assets/colab-badge.svg\" alt=\"Open In Colab\"/></a>"
      ]
    },
    {
      "cell_type": "code",
      "execution_count": 2,
      "metadata": {
        "colab": {
          "base_uri": "https://localhost:8080/"
        },
        "id": "vSAYaEKc0no6",
        "outputId": "cc186d71-4363-449d-dbdd-7b89817d0de0"
      },
      "outputs": [
        {
          "output_type": "stream",
          "name": "stdout",
          "text": [
            "Mounted at /content/drive\n"
          ]
        }
      ],
      "source": [
        "#attach to Google Drive\n",
        "from google.colab import drive\n",
        "drive.mount('/content/drive')"
      ]
    },
    {
      "cell_type": "code",
      "source": [
        "cd ./drive/MyDrive/EnvDataSci/For_Ellen/Ran_Feng_isotope_sensitivity/new_runs/scaled"
      ],
      "metadata": {
        "colab": {
          "base_uri": "https://localhost:8080/"
        },
        "id": "UdRunSPH03Yg",
        "outputId": "2d8afb32-1d73-45c3-be61-63a6015ef050"
      },
      "execution_count": 3,
      "outputs": [
        {
          "output_type": "stream",
          "name": "stdout",
          "text": [
            "/content/drive/.shortcut-targets-by-id/1-n_IOvxe34aCTrxrJlY5ZJYz-K0wNK0_/For_Ellen/Ran_Feng_isotope_sensitivity/new_runs/scaled\n"
          ]
        }
      ]
    },
    {
      "cell_type": "code",
      "source": [
        "!pip install pysal\n",
        "!pip install libpysal\n",
        "!pip install geopandas\n",
        "!pip install netCDF4"
      ],
      "metadata": {
        "colab": {
          "base_uri": "https://localhost:8080/"
        },
        "id": "_G3PhAka5Ajw",
        "outputId": "091d6779-d084-47db-ff64-d6b3a869a78a"
      },
      "execution_count": 4,
      "outputs": [
        {
          "output_type": "stream",
          "name": "stdout",
          "text": [
            "Looking in indexes: https://pypi.org/simple, https://us-python.pkg.dev/colab-wheels/public/simple/\n",
            "Collecting pysal\n",
            "  Downloading pysal-2.7.0-py3-none-any.whl (17 kB)\n",
            "Collecting esda>=2.4.1\n",
            "  Downloading esda-2.4.3.tar.gz (116 kB)\n",
            "\u001b[K     |████████████████████████████████| 116 kB 16.3 MB/s \n",
            "\u001b[?25hCollecting libpysal>=4.6.2\n",
            "  Downloading libpysal-4.7.0-py3-none-any.whl (2.4 MB)\n",
            "\u001b[K     |████████████████████████████████| 2.4 MB 58.8 MB/s \n",
            "\u001b[?25hCollecting access>=1.1.8\n",
            "  Downloading access-1.1.8-py3-none-any.whl (21 kB)\n",
            "Collecting segregation>=2.3.1\n",
            "  Downloading segregation-2.3.1-py3-none-any.whl (147 kB)\n",
            "\u001b[K     |████████████████████████████████| 147 kB 63.9 MB/s \n",
            "\u001b[?25hCollecting spvcm>=0.3.0\n",
            "  Downloading spvcm-0.3.0.tar.gz (5.7 MB)\n",
            "\u001b[K     |████████████████████████████████| 5.7 MB 60.0 MB/s \n",
            "\u001b[?25hCollecting mapclassify>=2.4.3\n",
            "  Downloading mapclassify-2.4.3-py3-none-any.whl (38 kB)\n",
            "Collecting pysal\n",
            "  Downloading pysal-2.6.0-py3-none-any.whl (17 kB)\n",
            "Collecting splot>=1.1.4\n",
            "  Downloading splot-1.1.5.post1-py3-none-any.whl (39 kB)\n",
            "Collecting momepy>=0.5.2\n",
            "  Downloading momepy-0.5.4-py3-none-any.whl (243 kB)\n",
            "\u001b[K     |████████████████████████████████| 243 kB 69.6 MB/s \n",
            "\u001b[?25hCollecting giddy>=2.3.3\n",
            "  Downloading giddy-2.3.3-py3-none-any.whl (60 kB)\n",
            "\u001b[K     |████████████████████████████████| 60 kB 10.0 MB/s \n",
            "\u001b[?25hCollecting spreg>=1.2.4\n",
            "  Downloading spreg-1.3.0-py3-none-any.whl (220 kB)\n",
            "\u001b[K     |████████████████████████████████| 220 kB 55.4 MB/s \n",
            "\u001b[?25hCollecting mgwr>=2.1.2\n",
            "  Downloading mgwr-2.1.2.tar.gz (41 kB)\n",
            "\u001b[K     |████████████████████████████████| 41 kB 802 kB/s \n",
            "\u001b[?25hCollecting spaghetti>=1.6.5\n",
            "  Downloading spaghetti-1.6.5-py3-none-any.whl (46 kB)\n",
            "\u001b[K     |████████████████████████████████| 46 kB 4.6 MB/s \n",
            "\u001b[?25hCollecting tobler>=0.8.2\n",
            "  Downloading tobler-0.9.0-py3-none-any.whl (22 kB)\n",
            "Collecting spopt>=0.2.1\n",
            "  Downloading spopt-0.4.1-py3-none-any.whl (84 kB)\n",
            "\u001b[K     |████████████████████████████████| 84 kB 4.9 MB/s \n",
            "\u001b[?25hCollecting spglm>=1.0.8\n",
            "  Downloading spglm-1.0.8.tar.gz (37 kB)\n",
            "Collecting pointpats>=2.2.0\n",
            "  Downloading pointpats-2.2.0.tar.gz (55 kB)\n",
            "\u001b[K     |████████████████████████████████| 55 kB 4.6 MB/s \n",
            "\u001b[?25hCollecting spint>=1.0.7\n",
            "  Downloading spint-1.0.7.tar.gz (28 kB)\n",
            "Collecting inequality>=1.0.0\n",
            "  Downloading inequality-1.0.0.tar.gz (11 kB)\n",
            "Requirement already satisfied: numpy>=1.3 in /usr/local/lib/python3.7/dist-packages (from access>=1.1.8->pysal) (1.21.6)\n",
            "Requirement already satisfied: requests>=2 in /usr/local/lib/python3.7/dist-packages (from access>=1.1.8->pysal) (2.23.0)\n",
            "Requirement already satisfied: pandas>=0.23.4 in /usr/local/lib/python3.7/dist-packages (from access>=1.1.8->pysal) (1.3.5)\n",
            "Collecting geopandas\n",
            "  Downloading geopandas-0.10.2-py2.py3-none-any.whl (1.0 MB)\n",
            "\u001b[K     |████████████████████████████████| 1.0 MB 64.8 MB/s \n",
            "\u001b[?25hRequirement already satisfied: scipy>=0.11 in /usr/local/lib/python3.7/dist-packages (from esda>=2.4.1->pysal) (1.7.3)\n",
            "Requirement already satisfied: scikit-learn in /usr/local/lib/python3.7/dist-packages (from esda>=2.4.1->pysal) (1.0.2)\n",
            "Collecting quantecon>=0.4.7\n",
            "  Downloading quantecon-0.5.3-py3-none-any.whl (179 kB)\n",
            "\u001b[K     |████████████████████████████████| 179 kB 67.9 MB/s \n",
            "\u001b[?25hRequirement already satisfied: packaging in /usr/local/lib/python3.7/dist-packages (from libpysal>=4.6.2->pysal) (21.3)\n",
            "Requirement already satisfied: beautifulsoup4 in /usr/local/lib/python3.7/dist-packages (from libpysal>=4.6.2->pysal) (4.6.3)\n",
            "Collecting platformdirs\n",
            "  Downloading platformdirs-2.5.4-py3-none-any.whl (14 kB)\n",
            "Requirement already satisfied: jinja2 in /usr/local/lib/python3.7/dist-packages (from libpysal>=4.6.2->pysal) (2.11.3)\n",
            "Requirement already satisfied: networkx in /usr/local/lib/python3.7/dist-packages (from mapclassify>=2.4.3->pysal) (2.6.3)\n",
            "Requirement already satisfied: tqdm>=4.27.0 in /usr/local/lib/python3.7/dist-packages (from momepy>=0.5.2->pysal) (4.64.1)\n",
            "Collecting pygeos\n",
            "  Downloading pygeos-0.13-cp37-cp37m-manylinux_2_17_x86_64.manylinux2014_x86_64.whl (2.1 MB)\n",
            "\u001b[K     |████████████████████████████████| 2.1 MB 63.5 MB/s \n",
            "\u001b[?25hCollecting fiona>=1.8\n",
            "  Downloading Fiona-1.8.22-cp37-cp37m-manylinux2014_x86_64.whl (16.7 MB)\n",
            "\u001b[K     |████████████████████████████████| 16.7 MB 72.7 MB/s \n",
            "\u001b[?25hRequirement already satisfied: shapely>=1.6 in /usr/local/lib/python3.7/dist-packages (from geopandas->access>=1.1.8->pysal) (1.8.5.post1)\n",
            "Collecting pyproj>=2.2.0\n",
            "  Downloading pyproj-3.2.1-cp37-cp37m-manylinux2010_x86_64.whl (6.3 MB)\n",
            "\u001b[K     |████████████████████████████████| 6.3 MB 61.0 MB/s \n",
            "\u001b[?25hCollecting click-plugins>=1.0\n",
            "  Downloading click_plugins-1.1.1-py2.py3-none-any.whl (7.5 kB)\n",
            "Requirement already satisfied: attrs>=17 in /usr/local/lib/python3.7/dist-packages (from fiona>=1.8->geopandas->access>=1.1.8->pysal) (22.1.0)\n",
            "Requirement already satisfied: six>=1.7 in /usr/local/lib/python3.7/dist-packages (from fiona>=1.8->geopandas->access>=1.1.8->pysal) (1.15.0)\n",
            "Requirement already satisfied: setuptools in /usr/local/lib/python3.7/dist-packages (from fiona>=1.8->geopandas->access>=1.1.8->pysal) (57.4.0)\n",
            "Collecting munch\n",
            "  Downloading munch-2.5.0-py2.py3-none-any.whl (10 kB)\n",
            "Requirement already satisfied: certifi in /usr/local/lib/python3.7/dist-packages (from fiona>=1.8->geopandas->access>=1.1.8->pysal) (2022.9.24)\n",
            "Collecting cligj>=0.5\n",
            "  Downloading cligj-0.7.2-py3-none-any.whl (7.1 kB)\n",
            "Requirement already satisfied: click>=4.0 in /usr/local/lib/python3.7/dist-packages (from fiona>=1.8->geopandas->access>=1.1.8->pysal) (7.1.2)\n",
            "Requirement already satisfied: pytz>=2017.3 in /usr/local/lib/python3.7/dist-packages (from pandas>=0.23.4->access>=1.1.8->pysal) (2022.6)\n",
            "Requirement already satisfied: python-dateutil>=2.7.3 in /usr/local/lib/python3.7/dist-packages (from pandas>=0.23.4->access>=1.1.8->pysal) (2.8.2)\n",
            "Requirement already satisfied: matplotlib in /usr/local/lib/python3.7/dist-packages (from pointpats>=2.2.0->pysal) (3.2.2)\n",
            "Requirement already satisfied: opencv-contrib-python>=4.2.0 in /usr/local/lib/python3.7/dist-packages (from pointpats>=2.2.0->pysal) (4.6.0.66)\n",
            "Requirement already satisfied: numba in /usr/local/lib/python3.7/dist-packages (from quantecon>=0.4.7->giddy>=2.3.3->pysal) (0.56.4)\n",
            "Requirement already satisfied: sympy in /usr/local/lib/python3.7/dist-packages (from quantecon>=0.4.7->giddy>=2.3.3->pysal) (1.7.1)\n",
            "Requirement already satisfied: idna<3,>=2.5 in /usr/local/lib/python3.7/dist-packages (from requests>=2->access>=1.1.8->pysal) (2.10)\n",
            "Requirement already satisfied: chardet<4,>=3.0.2 in /usr/local/lib/python3.7/dist-packages (from requests>=2->access>=1.1.8->pysal) (3.0.4)\n",
            "Requirement already satisfied: urllib3!=1.25.0,!=1.25.1,<1.26,>=1.21.1 in /usr/local/lib/python3.7/dist-packages (from requests>=2->access>=1.1.8->pysal) (1.24.3)\n",
            "Requirement already satisfied: pip in /usr/local/lib/python3.7/dist-packages (from segregation>=2.3.1->pysal) (21.1.3)\n",
            "Collecting quilt3\n",
            "  Downloading quilt3-5.0.0-py3-none-any.whl (78 kB)\n",
            "\u001b[K     |████████████████████████████████| 78 kB 10.1 MB/s \n",
            "\u001b[?25hRequirement already satisfied: seaborn in /usr/local/lib/python3.7/dist-packages (from segregation>=2.3.1->pysal) (0.11.2)\n",
            "Collecting deprecation\n",
            "  Downloading deprecation-2.1.0-py2.py3-none-any.whl (11 kB)\n",
            "Collecting rvlib>=0.0.5\n",
            "  Downloading rvlib-0.0.6.tar.gz (183 kB)\n",
            "\u001b[K     |████████████████████████████████| 183 kB 76.5 MB/s \n",
            "\u001b[?25hRequirement already satisfied: joblib in /usr/local/lib/python3.7/dist-packages (from segregation>=2.3.1->pysal) (1.2.0)\n",
            "Requirement already satisfied: cffi>=1.0.0 in /usr/local/lib/python3.7/dist-packages (from rvlib>=0.0.5->segregation>=2.3.1->pysal) (1.15.1)\n",
            "Requirement already satisfied: PyYAML in /usr/local/lib/python3.7/dist-packages (from rvlib>=0.0.5->segregation>=2.3.1->pysal) (6.0)\n",
            "Requirement already satisfied: pycparser in /usr/local/lib/python3.7/dist-packages (from cffi>=1.0.0->rvlib>=0.0.5->segregation>=2.3.1->pysal) (2.21)\n",
            "Requirement already satisfied: llvmlite<0.40,>=0.39.0dev0 in /usr/local/lib/python3.7/dist-packages (from numba->quantecon>=0.4.7->giddy>=2.3.3->pysal) (0.39.1)\n",
            "Requirement already satisfied: importlib-metadata in /usr/local/lib/python3.7/dist-packages (from numba->quantecon>=0.4.7->giddy>=2.3.3->pysal) (4.13.0)\n",
            "Requirement already satisfied: threadpoolctl>=2.0.0 in /usr/local/lib/python3.7/dist-packages (from scikit-learn->esda>=2.4.1->pysal) (3.1.0)\n",
            "Collecting rtree\n",
            "  Downloading Rtree-1.0.1-cp37-cp37m-manylinux_2_17_x86_64.manylinux2014_x86_64.whl (1.0 MB)\n",
            "\u001b[K     |████████████████████████████████| 1.0 MB 65.7 MB/s \n",
            "\u001b[?25hCollecting pulp\n",
            "  Downloading PuLP-2.7.0-py3-none-any.whl (14.3 MB)\n",
            "\u001b[K     |████████████████████████████████| 14.3 MB 54.5 MB/s \n",
            "\u001b[?25hRequirement already satisfied: statsmodels in /usr/local/lib/python3.7/dist-packages (from tobler>=0.8.2->pysal) (0.12.2)\n",
            "Collecting rasterstats\n",
            "  Downloading rasterstats-0.17.0-py3-none-any.whl (16 kB)\n",
            "Collecting rasterio\n",
            "  Downloading rasterio-1.2.10-cp37-cp37m-manylinux1_x86_64.whl (19.3 MB)\n",
            "\u001b[K     |████████████████████████████████| 19.3 MB 139 kB/s \n",
            "\u001b[?25hRequirement already satisfied: typing-extensions>=3.6.4 in /usr/local/lib/python3.7/dist-packages (from importlib-metadata->numba->quantecon>=0.4.7->giddy>=2.3.3->pysal) (4.1.1)\n",
            "Requirement already satisfied: zipp>=0.5 in /usr/local/lib/python3.7/dist-packages (from importlib-metadata->numba->quantecon>=0.4.7->giddy>=2.3.3->pysal) (3.10.0)\n",
            "Requirement already satisfied: MarkupSafe>=0.23 in /usr/local/lib/python3.7/dist-packages (from jinja2->libpysal>=4.6.2->pysal) (2.0.1)\n",
            "Requirement already satisfied: cycler>=0.10 in /usr/local/lib/python3.7/dist-packages (from matplotlib->pointpats>=2.2.0->pysal) (0.11.0)\n",
            "Requirement already satisfied: pyparsing!=2.0.4,!=2.1.2,!=2.1.6,>=2.0.1 in /usr/local/lib/python3.7/dist-packages (from matplotlib->pointpats>=2.2.0->pysal) (3.0.9)\n",
            "Requirement already satisfied: kiwisolver>=1.0.1 in /usr/local/lib/python3.7/dist-packages (from matplotlib->pointpats>=2.2.0->pysal) (1.4.4)\n",
            "Collecting aws-requests-auth>=0.4.2\n",
            "  Downloading aws_requests_auth-0.4.3-py2.py3-none-any.whl (6.8 kB)\n",
            "Requirement already satisfied: appdirs>=1.4.0 in /usr/local/lib/python3.7/dist-packages (from quilt3->segregation>=2.3.1->pysal) (1.4.4)\n",
            "Requirement already satisfied: jsonschema<5,>=3 in /usr/local/lib/python3.7/dist-packages (from quilt3->segregation>=2.3.1->pysal) (4.3.3)\n",
            "Collecting jsonlines==1.2.0\n",
            "  Downloading jsonlines-1.2.0-py2.py3-none-any.whl (7.6 kB)\n",
            "Collecting requests-futures==1.0.0\n",
            "  Downloading requests_futures-1.0.0-py2.py3-none-any.whl (7.4 kB)\n",
            "Collecting boto3>=1.10.0\n",
            "  Downloading boto3-1.26.16-py3-none-any.whl (132 kB)\n",
            "\u001b[K     |████████████████████████████████| 132 kB 71.4 MB/s \n",
            "\u001b[?25hRequirement already satisfied: tenacity>=5.1.1 in /usr/local/lib/python3.7/dist-packages (from quilt3->segregation>=2.3.1->pysal) (8.1.0)\n",
            "Collecting s3transfer<0.7.0,>=0.6.0\n",
            "  Downloading s3transfer-0.6.0-py3-none-any.whl (79 kB)\n",
            "\u001b[K     |████████████████████████████████| 79 kB 10.5 MB/s \n",
            "\u001b[?25hCollecting jmespath<2.0.0,>=0.7.1\n",
            "  Downloading jmespath-1.0.1-py3-none-any.whl (20 kB)\n",
            "Collecting botocore<1.30.0,>=1.29.16\n",
            "  Downloading botocore-1.29.16-py3-none-any.whl (9.9 MB)\n",
            "\u001b[K     |████████████████████████████████| 9.9 MB 59.3 MB/s \n",
            "\u001b[?25hCollecting urllib3!=1.25.0,!=1.25.1,<1.26,>=1.21.1\n",
            "  Downloading urllib3-1.25.11-py2.py3-none-any.whl (127 kB)\n",
            "\u001b[K     |████████████████████████████████| 127 kB 77.6 MB/s \n",
            "\u001b[?25hRequirement already satisfied: importlib-resources>=1.4.0 in /usr/local/lib/python3.7/dist-packages (from jsonschema<5,>=3->quilt3->segregation>=2.3.1->pysal) (5.10.0)\n",
            "Requirement already satisfied: pyrsistent!=0.17.0,!=0.17.1,!=0.17.2,>=0.14.0 in /usr/local/lib/python3.7/dist-packages (from jsonschema<5,>=3->quilt3->segregation>=2.3.1->pysal) (0.19.2)\n",
            "Collecting snuggs>=1.4.1\n",
            "  Downloading snuggs-1.4.7-py3-none-any.whl (5.4 kB)\n",
            "Collecting affine\n",
            "  Downloading affine-2.3.1-py2.py3-none-any.whl (16 kB)\n",
            "Collecting simplejson\n",
            "  Downloading simplejson-3.18.0-cp37-cp37m-manylinux_2_5_x86_64.manylinux1_x86_64.manylinux_2_12_x86_64.manylinux2010_x86_64.whl (130 kB)\n",
            "\u001b[K     |████████████████████████████████| 130 kB 62.1 MB/s \n",
            "\u001b[?25hRequirement already satisfied: patsy>=0.5 in /usr/local/lib/python3.7/dist-packages (from statsmodels->tobler>=0.8.2->pysal) (0.5.3)\n",
            "Requirement already satisfied: mpmath>=0.19 in /usr/local/lib/python3.7/dist-packages (from sympy->quantecon>=0.4.7->giddy>=2.3.3->pysal) (1.2.1)\n",
            "Building wheels for collected packages: esda, inequality, mgwr, pointpats, rvlib, spglm, spint, spvcm\n",
            "  Building wheel for esda (setup.py) ... \u001b[?25l\u001b[?25hdone\n",
            "  Created wheel for esda: filename=esda-2.4.3-py3-none-any.whl size=122782 sha256=eaf538579b400bc8e1f94f04ecdbb5a0926d7634c34ff84cdee7f03eaec697b8\n",
            "  Stored in directory: /root/.cache/pip/wheels/37/07/2e/2aa4874ca25fa442a3912c74e53780da19d25ec1d58bac5d30\n",
            "  Building wheel for inequality (setup.py) ... \u001b[?25l\u001b[?25hdone\n",
            "  Created wheel for inequality: filename=inequality-1.0.0-py3-none-any.whl size=11799 sha256=369a860b236ed2acd35267e6c3a0df0f4d3af96e419e0c2102538fc080ea4d01\n",
            "  Stored in directory: /root/.cache/pip/wheels/a8/81/7a/af8b9e8ea0b034ac1bdd9d68f3a8ceac179eb5418cdb83c851\n",
            "  Building wheel for mgwr (setup.py) ... \u001b[?25l\u001b[?25hdone\n",
            "  Created wheel for mgwr: filename=mgwr-2.1.2-py3-none-any.whl size=46384 sha256=4e44e1421769cc00013ac70fc80631a1b25d3839f81f14fc2539c11f76f843b2\n",
            "  Stored in directory: /root/.cache/pip/wheels/e8/55/57/c1bf993ab0ab4b9885ac1fdf7f9f960397355cf889b77a3e4b\n",
            "  Building wheel for pointpats (setup.py) ... \u001b[?25l\u001b[?25hdone\n",
            "  Created wheel for pointpats: filename=pointpats-2.2.0-py3-none-any.whl size=60834 sha256=39dbf9cfe8cb1ed14313d189126efb40549531a9464fb0c814e6d0afb46bb6e0\n",
            "  Stored in directory: /root/.cache/pip/wheels/41/5f/91/08cc68af630fafdc6bed36128abf8e716e062256a8495fdb2d\n",
            "  Building wheel for rvlib (setup.py) ... \u001b[?25l\u001b[?25hdone\n",
            "  Created wheel for rvlib: filename=rvlib-0.0.6-cp37-cp37m-linux_x86_64.whl size=352170 sha256=7e7935a6f81edbe7dff6c3f6e1c1ba775f442b6f21cb13694d8d2a712d6638bd\n",
            "  Stored in directory: /root/.cache/pip/wheels/8e/fe/cb/66b78310be88014dfbe1a21391c873a9fe49dca403f7d9f454\n",
            "  Building wheel for spglm (setup.py) ... \u001b[?25l\u001b[?25hdone\n",
            "  Created wheel for spglm: filename=spglm-1.0.8-py3-none-any.whl size=38806 sha256=121bb46e52d7b498bf262b649f564c713993ed1aed7826bc2de31beedb9f30f7\n",
            "  Stored in directory: /root/.cache/pip/wheels/29/79/e9/453e3b0d858bed16e097c6e6bbd75e2b966bfcfb21b12790d0\n",
            "  Building wheel for spint (setup.py) ... \u001b[?25l\u001b[?25hdone\n",
            "  Created wheel for spint: filename=spint-1.0.7-py3-none-any.whl size=31383 sha256=52f8baa9f9b091c0b8b540ce6c233ae07dc00c55a2497e6ab6c66f3e55b041ff\n",
            "  Stored in directory: /root/.cache/pip/wheels/dd/ac/5d/25d69231f3bffa2cb47ce29bb7eac9df9246aa9ba286a03a2d\n",
            "  Building wheel for spvcm (setup.py) ... \u001b[?25l\u001b[?25hdone\n",
            "  Created wheel for spvcm: filename=spvcm-0.3.0-py3-none-any.whl size=5777201 sha256=c2e48fb5c298f194717b5fcd35e7348c6466b260eb4eb65efd0a5e67319368d3\n",
            "  Stored in directory: /root/.cache/pip/wheels/a4/85/1a/d890ef4d2eaca2788e45925fa531bb58a2138734065abdfe08\n",
            "Successfully built esda inequality mgwr pointpats rvlib spglm spint spvcm\n",
            "Installing collected packages: urllib3, jmespath, platformdirs, botocore, snuggs, s3transfer, munch, libpysal, cligj, click-plugins, affine, spreg, simplejson, rtree, requests-futures, rasterio, quantecon, pyproj, mapclassify, jsonlines, fiona, esda, boto3, aws-requests-auth, spglm, spaghetti, rvlib, rasterstats, quilt3, pygeos, pulp, giddy, geopandas, deprecation, tobler, spvcm, spopt, splot, spint, segregation, pointpats, momepy, mgwr, inequality, access, pysal\n",
            "  Attempting uninstall: urllib3\n",
            "    Found existing installation: urllib3 1.24.3\n",
            "    Uninstalling urllib3-1.24.3:\n",
            "      Successfully uninstalled urllib3-1.24.3\n",
            "Successfully installed access-1.1.8 affine-2.3.1 aws-requests-auth-0.4.3 boto3-1.26.16 botocore-1.29.16 click-plugins-1.1.1 cligj-0.7.2 deprecation-2.1.0 esda-2.4.3 fiona-1.8.22 geopandas-0.10.2 giddy-2.3.3 inequality-1.0.0 jmespath-1.0.1 jsonlines-1.2.0 libpysal-4.7.0 mapclassify-2.4.3 mgwr-2.1.2 momepy-0.5.4 munch-2.5.0 platformdirs-2.5.4 pointpats-2.2.0 pulp-2.7.0 pygeos-0.13 pyproj-3.2.1 pysal-2.6.0 quantecon-0.5.3 quilt3-5.0.0 rasterio-1.2.10 rasterstats-0.17.0 requests-futures-1.0.0 rtree-1.0.1 rvlib-0.0.6 s3transfer-0.6.0 segregation-2.3.1 simplejson-3.18.0 snuggs-1.4.7 spaghetti-1.6.5 spglm-1.0.8 spint-1.0.7 splot-1.1.5.post1 spopt-0.4.1 spreg-1.3.0 spvcm-0.3.0 tobler-0.9.0 urllib3-1.25.11\n",
            "Looking in indexes: https://pypi.org/simple, https://us-python.pkg.dev/colab-wheels/public/simple/\n",
            "Requirement already satisfied: libpysal in /usr/local/lib/python3.7/dist-packages (4.7.0)\n",
            "Requirement already satisfied: beautifulsoup4 in /usr/local/lib/python3.7/dist-packages (from libpysal) (4.6.3)\n",
            "Requirement already satisfied: numpy>=1.3 in /usr/local/lib/python3.7/dist-packages (from libpysal) (1.21.6)\n",
            "Requirement already satisfied: platformdirs in /usr/local/lib/python3.7/dist-packages (from libpysal) (2.5.4)\n",
            "Requirement already satisfied: scipy>=0.11 in /usr/local/lib/python3.7/dist-packages (from libpysal) (1.7.3)\n",
            "Requirement already satisfied: pandas in /usr/local/lib/python3.7/dist-packages (from libpysal) (1.3.5)\n",
            "Requirement already satisfied: jinja2 in /usr/local/lib/python3.7/dist-packages (from libpysal) (2.11.3)\n",
            "Requirement already satisfied: requests in /usr/local/lib/python3.7/dist-packages (from libpysal) (2.23.0)\n",
            "Requirement already satisfied: packaging in /usr/local/lib/python3.7/dist-packages (from libpysal) (21.3)\n",
            "Requirement already satisfied: MarkupSafe>=0.23 in /usr/local/lib/python3.7/dist-packages (from jinja2->libpysal) (2.0.1)\n",
            "Requirement already satisfied: pyparsing!=3.0.5,>=2.0.2 in /usr/local/lib/python3.7/dist-packages (from packaging->libpysal) (3.0.9)\n",
            "Requirement already satisfied: pytz>=2017.3 in /usr/local/lib/python3.7/dist-packages (from pandas->libpysal) (2022.6)\n",
            "Requirement already satisfied: python-dateutil>=2.7.3 in /usr/local/lib/python3.7/dist-packages (from pandas->libpysal) (2.8.2)\n",
            "Requirement already satisfied: six>=1.5 in /usr/local/lib/python3.7/dist-packages (from python-dateutil>=2.7.3->pandas->libpysal) (1.15.0)\n",
            "Requirement already satisfied: chardet<4,>=3.0.2 in /usr/local/lib/python3.7/dist-packages (from requests->libpysal) (3.0.4)\n",
            "Requirement already satisfied: urllib3!=1.25.0,!=1.25.1,<1.26,>=1.21.1 in /usr/local/lib/python3.7/dist-packages (from requests->libpysal) (1.25.11)\n",
            "Requirement already satisfied: certifi>=2017.4.17 in /usr/local/lib/python3.7/dist-packages (from requests->libpysal) (2022.9.24)\n",
            "Requirement already satisfied: idna<3,>=2.5 in /usr/local/lib/python3.7/dist-packages (from requests->libpysal) (2.10)\n",
            "Looking in indexes: https://pypi.org/simple, https://us-python.pkg.dev/colab-wheels/public/simple/\n",
            "Requirement already satisfied: geopandas in /usr/local/lib/python3.7/dist-packages (0.10.2)\n",
            "Requirement already satisfied: pyproj>=2.2.0 in /usr/local/lib/python3.7/dist-packages (from geopandas) (3.2.1)\n",
            "Requirement already satisfied: shapely>=1.6 in /usr/local/lib/python3.7/dist-packages (from geopandas) (1.8.5.post1)\n",
            "Requirement already satisfied: fiona>=1.8 in /usr/local/lib/python3.7/dist-packages (from geopandas) (1.8.22)\n",
            "Requirement already satisfied: pandas>=0.25.0 in /usr/local/lib/python3.7/dist-packages (from geopandas) (1.3.5)\n",
            "Requirement already satisfied: six>=1.7 in /usr/local/lib/python3.7/dist-packages (from fiona>=1.8->geopandas) (1.15.0)\n",
            "Requirement already satisfied: click-plugins>=1.0 in /usr/local/lib/python3.7/dist-packages (from fiona>=1.8->geopandas) (1.1.1)\n",
            "Requirement already satisfied: munch in /usr/local/lib/python3.7/dist-packages (from fiona>=1.8->geopandas) (2.5.0)\n",
            "Requirement already satisfied: cligj>=0.5 in /usr/local/lib/python3.7/dist-packages (from fiona>=1.8->geopandas) (0.7.2)\n",
            "Requirement already satisfied: attrs>=17 in /usr/local/lib/python3.7/dist-packages (from fiona>=1.8->geopandas) (22.1.0)\n",
            "Requirement already satisfied: certifi in /usr/local/lib/python3.7/dist-packages (from fiona>=1.8->geopandas) (2022.9.24)\n",
            "Requirement already satisfied: setuptools in /usr/local/lib/python3.7/dist-packages (from fiona>=1.8->geopandas) (57.4.0)\n",
            "Requirement already satisfied: click>=4.0 in /usr/local/lib/python3.7/dist-packages (from fiona>=1.8->geopandas) (7.1.2)\n",
            "Requirement already satisfied: pytz>=2017.3 in /usr/local/lib/python3.7/dist-packages (from pandas>=0.25.0->geopandas) (2022.6)\n",
            "Requirement already satisfied: python-dateutil>=2.7.3 in /usr/local/lib/python3.7/dist-packages (from pandas>=0.25.0->geopandas) (2.8.2)\n",
            "Requirement already satisfied: numpy>=1.17.3 in /usr/local/lib/python3.7/dist-packages (from pandas>=0.25.0->geopandas) (1.21.6)\n",
            "Looking in indexes: https://pypi.org/simple, https://us-python.pkg.dev/colab-wheels/public/simple/\n",
            "Requirement already satisfied: netCDF4 in /usr/local/lib/python3.7/dist-packages (1.6.2)\n",
            "Requirement already satisfied: cftime in /usr/local/lib/python3.7/dist-packages (from netCDF4) (1.6.2)\n",
            "Requirement already satisfied: numpy>=1.9 in /usr/local/lib/python3.7/dist-packages (from netCDF4) (1.21.6)\n"
          ]
        }
      ]
    },
    {
      "cell_type": "code",
      "source": [
        "!pip install -U scikit-learn"
      ],
      "metadata": {
        "colab": {
          "base_uri": "https://localhost:8080/"
        },
        "id": "GOuCRPn993Zw",
        "outputId": "2b96803b-47c2-4298-d1f1-21f2b4bb9d66"
      },
      "execution_count": 17,
      "outputs": [
        {
          "output_type": "stream",
          "name": "stdout",
          "text": [
            "Looking in indexes: https://pypi.org/simple, https://us-python.pkg.dev/colab-wheels/public/simple/\n",
            "Requirement already satisfied: scikit-learn in /usr/local/lib/python3.7/dist-packages (1.0.2)\n",
            "Requirement already satisfied: scipy>=1.1.0 in /usr/local/lib/python3.7/dist-packages (from scikit-learn) (1.7.3)\n",
            "Requirement already satisfied: numpy>=1.14.6 in /usr/local/lib/python3.7/dist-packages (from scikit-learn) (1.21.6)\n",
            "Requirement already satisfied: joblib>=0.11 in /usr/local/lib/python3.7/dist-packages (from scikit-learn) (1.2.0)\n",
            "Requirement already satisfied: threadpoolctl>=2.0.0 in /usr/local/lib/python3.7/dist-packages (from scikit-learn) (3.1.0)\n"
          ]
        }
      ]
    },
    {
      "cell_type": "code",
      "source": [
        "import geopandas as gpd\n",
        "import numpy as np\n",
        "import matplotlib.pyplot as plt\n",
        "from matplotlib import gridspec\n",
        "from matplotlib import interactive\n",
        "from matplotlib import rcParams\n",
        "import xarray as xr\n",
        "interactive(True)\n",
        "import netCDF4"
      ],
      "metadata": {
        "id": "KbRpXyrc5pXP"
      },
      "execution_count": 5,
      "outputs": []
    },
    {
      "cell_type": "code",
      "source": [
        "from sklearn.decomposition import PCA\n",
        "from sklearn.cross_decomposition import CCA"
      ],
      "metadata": {
        "id": "80j_1hu69h2n"
      },
      "execution_count": 18,
      "outputs": []
    },
    {
      "cell_type": "code",
      "source": [
        "#bring in uniform warming files\n",
        "\n",
        "#uniform warming x1; integrated vapor transport and geopotential height\n",
        "ds1 = xr.open_dataset('f.ie12.E1850C5.f09_f09.PLIO_c.uniwar_1.IVT.0011.0040.nc')\n",
        "ds2 = xr.open_dataset('f.ie12.E1850C5.f09_f09.PLIO_c.uniwar_1.Z3.0011.0040.nc')\n",
        "\n",
        "#uniform warming x2\n",
        "ds3 = xr.open_dataset('f.ie12.E1850C5.f09_f09.PLIO_c.uniwar_2.IVT.0011.0040.nc')\n",
        "ds4 = xr.open_dataset('f.ie12.E1850C5.f09_f09.PLIO_c.uniwar_2.Z3.0011.0040.nc')"
      ],
      "metadata": {
        "id": "GhUsKXiL7j_l"
      },
      "execution_count": 68,
      "outputs": []
    },
    {
      "cell_type": "code",
      "source": [
        "cd ../"
      ],
      "metadata": {
        "colab": {
          "base_uri": "https://localhost:8080/"
        },
        "id": "ghWc7cG-_SEf",
        "outputId": "199b4b51-027e-4629-d836-3ac04dd547cf"
      },
      "execution_count": 69,
      "outputs": [
        {
          "output_type": "stream",
          "name": "stdout",
          "text": [
            "/content/drive/.shortcut-targets-by-id/1-n_IOvxe34aCTrxrJlY5ZJYz-K0wNK0_/For_Ellen/Ran_Feng_isotope_sensitivity/new_runs\n"
          ]
        }
      ]
    },
    {
      "cell_type": "code",
      "source": [
        "cd ./mhw"
      ],
      "metadata": {
        "colab": {
          "base_uri": "https://localhost:8080/"
        },
        "id": "U042IQbS_bfl",
        "outputId": "49236926-4575-402e-b13b-03cb0533fdd2"
      },
      "execution_count": 70,
      "outputs": [
        {
          "output_type": "stream",
          "name": "stdout",
          "text": [
            "/content/drive/.shortcut-targets-by-id/1-n_IOvxe34aCTrxrJlY5ZJYz-K0wNK0_/For_Ellen/Ran_Feng_isotope_sensitivity/new_runs/mhw\n"
          ]
        }
      ]
    },
    {
      "cell_type": "code",
      "source": [
        "#bring in marine heatwave files\n",
        "\n",
        "#mhw 1\n",
        "ds5 = xr.open_dataset('f.ie12.E1850C5.f09_f09.PLIO_c.mhw_1.IVT.0011.0040.nc')\n",
        "ds6 = xr.open_dataset('f.ie12.E1850C5.f09_f09.PLIO_c.mhw_1.Z3.0011.0040.nc')\n",
        "\n",
        "# #mhw 2\n",
        "ds7 = xr.open_dataset('f.ie12.E1850C5.f09_f09.PLIO_c.mhw_2.IVT.0011.0040.nc')\n",
        "ds8 = xr.open_dataset('f.ie12.E1850C5.f09_f09.PLIO_c.mhw_2.Z3.0011.0040.nc')\n",
        "\n",
        "#mhw 3\n",
        "ds9 = xr.open_dataset('f.ie12.E1850C5.f09_f09.PLIO_c.mhw_3.IVT.0011.0040.nc')\n",
        "ds10 = xr.open_dataset('f.ie12.E1850C5.f09_f09.PLIO_c.mhw_3.Z3.0011.0040.nc')\n",
        "\n",
        "#mhw 4\n",
        "ds11 = xr.open_dataset('f.ie12.E1850C5.f09_f09.PLIO_c.mhw_4.IVT.0011.0040.nc')\n",
        "ds12 = xr.open_dataset('f.ie12.E1850C5.f09_f09.PLIO_c.mhw_4.Z3.0011.0040.nc')"
      ],
      "metadata": {
        "id": "ovHDDD_y_lIJ"
      },
      "execution_count": 71,
      "outputs": []
    },
    {
      "cell_type": "code",
      "source": [
        "#set lat and lon bounds\n",
        "\n",
        "#uniform warming\n",
        "ivt_uni1 = ds1.IVT.sel(lat=slice(30, 45), lon=slice(105, 130))\n",
        "lat_ivt_u1 = ds1.lat.sel(lat=slice(30, 45))\n",
        "lon_ivt_u1 = ds1.lon.sel(lon=slice(105, 130))\n",
        "\n",
        "gph_uni1 = ds2.Z3.sel(lat=slice(30, 45), lon=slice(105, 130))\n",
        "lat_gph_u2 = ds2.lat.sel(lat=slice(30, 45))\n",
        "lon_gph_u2 = ds2.lon.sel(lon=slice(105, 130))\n",
        "\n",
        "\n",
        "ivt_uni2 = ds3.IVT.sel(lat=slice(30, 45), lon=slice(105, 130))\n",
        "lat_ivt_u3 = ds1.lat.sel(lat=slice(30, 45))\n",
        "lon_ivt_u3 = ds1.lon.sel(lon=slice(105, 130))\n",
        "\n",
        "gph_uni2 = ds4.Z3.sel(lat=slice(30, 45), lon=slice(105, 130))\n",
        "lat_gph_u4 = ds4.lat.sel(lat=slice(30, 45))\n",
        "lon_gph_u4 = ds4.lon.sel(lon=slice(105, 130))\n",
        "\n",
        "#marine heatwave\n",
        "\n",
        "ivt_mhw1 = ds5.IVT.sel(lat=slice(30, 45), lon=slice(105, 130))\n",
        "lat_ivt5 = ds5.lat.sel(lat=slice(30, 45))\n",
        "lon_ivt5 = ds5.lon.sel(lon=slice(105, 130))\n",
        "\n",
        "gph_mhw1 = ds6.Z3.sel(lat=slice(30, 45), lon=slice(105, 130))\n",
        "lat_gph6 = ds6.lat.sel(lat=slice(30, 45))\n",
        "lon_gph6 = ds6.lon.sel(lon=slice(105, 130))\n",
        "\n",
        "\n",
        "ivt_mhw2 = ds7.IVT.sel(lat=slice(30, 45), lon=slice(105, 130))\n",
        "lat_ivt7 = ds7.lat.sel(lat=slice(30, 45))\n",
        "lon_ivt7 = ds7.lon.sel(lon=slice(105, 130))\n",
        "\n",
        "gph_mhw2 = ds8.Z3.sel(lat=slice(30, 45), lon=slice(105, 130))\n",
        "lat_gph8 = ds8.lat.sel(lat=slice(30, 45))\n",
        "lon_gph8 = ds8.lon.sel(lon=slice(105, 130))\n",
        "\n",
        "\n",
        "ivt_mhw3 = ds9.IVT.sel(lat=slice(30, 45), lon=slice(105, 130))\n",
        "lat_ivt9 = ds9.lat.sel(lat=slice(30, 45))\n",
        "lon_ivt9 = ds9.lon.sel(lon=slice(105, 130))\n",
        "\n",
        "gph_mhw3 = ds10.Z3.sel(lat=slice(30, 45), lon=slice(105, 130))\n",
        "lat_gph10 = ds10.lat.sel(lat=slice(30, 45))\n",
        "lon_gph10 = ds10.lon.sel(lon=slice(105, 130))\n",
        "\n",
        "\n",
        "ivt_mhw4 = ds11.IVT.sel(lat=slice(30, 45), lon=slice(105, 130))\n",
        "lat_ivt11 = ds11.lat.sel(lat=slice(30, 45))\n",
        "lon_ivt11 = ds11.lon.sel(lon=slice(105, 130))\n",
        "\n",
        "gph_mhw4 = ds12.Z3.sel(lat=slice(30, 45), lon=slice(105, 130))\n",
        "lat_gph12 = ds12.lat.sel(lat=slice(30, 45))\n",
        "lon_gph12 = ds12.lon.sel(lon=slice(105, 130))"
      ],
      "metadata": {
        "id": "_-P50J6H7xla"
      },
      "execution_count": 73,
      "outputs": []
    },
    {
      "cell_type": "code",
      "source": [
        "#preprocess IVT\n",
        "\n",
        "#uniform warming\n",
        "ivt_uni1_2d = ivt_uni1.values\n",
        "ntime, nrow_uni, ncol_uni = ivt_uni1_2d.shape\n",
        "ivt_uni1_2d = np.reshape(ivt_uni1_2d, (ntime, nrow_uni*ncol_uni), order='F')\n",
        "\n",
        "pca_ivt_uni1 = PCA(n_components=6)\n",
        "pca_ivt_uni1.fit(ivt_uni1_2d)\n",
        "ivt_uni1_2d_pcs = pca_ivt_uni1.inverse_transform(pca_ivt_uni1.transform(ivt_uni1_2d))\n",
        "print(pca_ivt_uni1.explained_variance_ratio_.sum())\n",
        "\n",
        "\n",
        "ivt_uni2_2d = ivt_uni2.values\n",
        "ntime, nrow_uni, ncol_uni = ivt_uni2_2d.shape\n",
        "ivt_uni2_2d = np.reshape(ivt_uni2_2d, (ntime, nrow_uni*ncol_uni), order='F')\n",
        "\n",
        "pca_ivt_uni2 = PCA(n_components=6)\n",
        "pca_ivt_uni2.fit(ivt_uni2_2d)\n",
        "ivt_uni2_2d_pcs = pca_ivt_uni2.inverse_transform(pca_ivt_uni2.transform(ivt_uni2_2d))\n",
        "print(pca_ivt_uni2.explained_variance_ratio_.sum())\n",
        "\n",
        "#marine heatwaves\n",
        "ivt_mhw1_2d = ivt_mhw1.values\n",
        "ntime, nrow_ivt, ncol_ivt = ivt_mhw1_2d.shape\n",
        "ivt_mhw1_2d = np.reshape(ivt_mhw1_2d, (ntime, nrow_ivt*ncol_ivt), order='F')\n",
        "\n",
        "pca_ivt_mhw1 = PCA(n_components=6)\n",
        "pca_ivt_mhw1.fit(ivt_mhw1_2d)\n",
        "ivt_mhw1_2d_pcs = pca_ivt_mhw1.inverse_transform(pca_ivt_mhw1.transform(ivt_mhw1_2d))\n",
        "print(pca_ivt_mhw1.explained_variance_ratio_.sum())\n",
        "\n",
        "\n",
        "ivt_mhw2_2d = ivt_mhw2.values\n",
        "ntime, nrow_ivt, ncol_ivt = ivt_mhw2_2d.shape\n",
        "ivt_mhw2_2d = np.reshape(ivt_mhw2_2d, (ntime, nrow_ivt*ncol_ivt), order='F')\n",
        "\n",
        "pca_ivt_mhw2 = PCA(n_components=6)\n",
        "pca_ivt_mhw2.fit(ivt_mhw2_2d)\n",
        "ivt_mhw2_2d_pcs = pca_ivt_mhw1.inverse_transform(pca_ivt_mhw2.transform(ivt_mhw2_2d))\n",
        "print(pca_ivt_mhw2.explained_variance_ratio_.sum())\n",
        "\n",
        "\n",
        "ivt_mhw3_2d = ivt_mhw3.values\n",
        "ntime, nrow_ivt, ncol_ivt = ivt_mhw3_2d.shape\n",
        "ivt_mhw3_2d = np.reshape(ivt_mhw3_2d, (ntime, nrow_ivt*ncol_ivt), order='F')\n",
        "\n",
        "pca_ivt_mhw3 = PCA(n_components=6)\n",
        "pca_ivt_mhw3.fit(ivt_mhw3_2d)\n",
        "ivt_mhw3_2d_pcs = pca_ivt_mhw3.inverse_transform(pca_ivt_mhw3.transform(ivt_mhw3_2d))\n",
        "print(pca_ivt_mhw3.explained_variance_ratio_.sum())\n",
        "\n",
        "\n",
        "ivt_mhw4_2d = ivt_mhw4.values\n",
        "ntime, nrow_ivt, ncol_ivt = ivt_mhw4_2d.shape\n",
        "ivt_mhw4_2d = np.reshape(ivt_mhw4_2d, (ntime, nrow_ivt*ncol_ivt), order='F')\n",
        "\n",
        "pca_ivt_mhw4 = PCA(n_components=6)\n",
        "pca_ivt_mhw4.fit(ivt_mhw4_2d)\n",
        "ivt_mhw4_2d_pcs = pca_ivt_mhw1.inverse_transform(pca_ivt_mhw4.transform(ivt_mhw4_2d))\n",
        "print(pca_ivt_mhw4.explained_variance_ratio_.sum())"
      ],
      "metadata": {
        "colab": {
          "base_uri": "https://localhost:8080/"
        },
        "id": "tcTHNPut8mfu",
        "outputId": "4dd1cb70-b5cf-4dda-ee19-d78581caa3f8"
      },
      "execution_count": 75,
      "outputs": [
        {
          "output_type": "stream",
          "name": "stdout",
          "text": [
            "0.9997136\n",
            "0.99953353\n",
            "0.9996251\n",
            "0.99976224\n",
            "0.9997481\n",
            "0.9997251\n"
          ]
        }
      ]
    },
    {
      "cell_type": "code",
      "source": [
        "#uniform warming\n",
        "gph_uni1_2d = gph_uni1.values\n",
        "ntime, nrow_unig, ncol_unig = gph_uni1_2d.shape\n",
        "gph_uni1_2d = np.reshape(gph_uni1_2d, (ntime, nrow_unig*ncol_unig), order='F')\n",
        "\n",
        "pca_gph_uni1 = PCA(n_components=6)\n",
        "pca_gph_uni1.fit(gph_uni1_2d)\n",
        "gph_uni1_2d_pcs = pca_gph_uni1.inverse_transform(pca_gph_uni1.transform(gph_uni1_2d))\n",
        "print(pca_gph_uni1.explained_variance_ratio_.sum())\n",
        "\n",
        "\n",
        "gph_uni2_2d = gph_uni2.values\n",
        "ntime, nrow_unig, ncol_unig = gph_uni2_2d.shape\n",
        "gph_uni2_2d = np.reshape(gph_uni2_2d, (ntime, nrow_unig*ncol_unig), order='F')\n",
        "\n",
        "pca_gph_uni2 = PCA(n_components=6)\n",
        "pca_gph_uni2.fit(gph_uni2_2d)\n",
        "gph_uni2_2d_pcs = pca_gph_uni2.inverse_transform(pca_gph_uni2.transform(gph_uni2_2d))\n",
        "print(pca_gph_uni2.explained_variance_ratio_.sum())\n",
        "\n",
        "#marine heatwaves\n",
        "gph_mhw1_2d = gph_mhw1.values\n",
        "ntime, nrow_gph, ncol_gph = gph_mhw1_2d.shape\n",
        "gph_mhw1_2d = np.reshape(gph_mhw1_2d, (ntime, nrow_gph*ncol_gph), order='F')\n",
        "\n",
        "pca_gph_mhw1 = PCA(n_components=6)\n",
        "pca_gph_mhw1.fit(gph_mhw1_2d)\n",
        "gph_mhw1_2d_pcs = pca_gph_mhw1.inverse_transform(pca_gph_mhw1.transform(gph_mhw1_2d))\n",
        "print(pca_gph_mhw1.explained_variance_ratio_.sum())\n",
        "\n",
        "\n",
        "gph_mhw2_2d = gph_mhw2.values\n",
        "ntime, nrow_gph, ncol_gph = gph_mhw2_2d.shape\n",
        "gph_mhw2_2d = np.reshape(gph_mhw2_2d, (ntime, nrow_gph*ncol_gph), order='F')\n",
        "\n",
        "pca_gph_mhw2 = PCA(n_components=6)\n",
        "pca_gph_mhw2.fit(gph_mhw2_2d)\n",
        "gph_mhw2_2d_pcs = pca_gph_mhw1.inverse_transform(pca_gph_mhw2.transform(gph_mhw2_2d))\n",
        "print(pca_gph_mhw2.explained_variance_ratio_.sum())\n",
        "\n",
        "\n",
        "gph_mhw3_2d = gph_mhw3.values\n",
        "ntime, nrow_gph, ncol_gph = gph_mhw3_2d.shape\n",
        "gph_mhw3_2d = np.reshape(gph_mhw3_2d, (ntime, nrow_gph*ncol_gph), order='F')\n",
        "\n",
        "pca_gph_mhw3 = PCA(n_components=6)\n",
        "pca_gph_mhw3.fit(gph_mhw3_2d)\n",
        "gph_mhw3_2d_pcs = pca_gph_mhw3.inverse_transform(pca_gph_mhw3.transform(gph_mhw3_2d))\n",
        "print(pca_gph_mhw3.explained_variance_ratio_.sum())\n",
        "\n",
        "\n",
        "gph_mhw4_2d = gph_mhw4.values\n",
        "ntime, nrow_gph, ncol_gph = gph_mhw4_2d.shape\n",
        "gph_mhw4_2d = np.reshape(gph_mhw4_2d, (ntime, nrow_gph*ncol_gph), order='F')\n",
        "\n",
        "pca_gph_mhw4 = PCA(n_components=6)\n",
        "pca_gph_mhw4.fit(gph_mhw4_2d)\n",
        "gph_mhw4_2d_pcs = pca_gph_mhw1.inverse_transform(pca_gph_mhw4.transform(gph_mhw4_2d))\n",
        "print(pca_gph_mhw4.explained_variance_ratio_.sum())"
      ],
      "metadata": {
        "id": "cnOGFqCVSX0G"
      },
      "execution_count": null,
      "outputs": []
    },
    {
      "cell_type": "code",
      "source": [
        "#CCA for IVT and GPH of MHW1\n",
        "cca = CCA(n_components=1)\n",
        "ivt_mhw1_c, gph_mhw1_c = cca.fit_transform(ivt_mhw1_2d, gph_mhw1_2d)\n",
        "\n",
        "ivt_mhw1_c /= ivt_mhw1_c.std(axis=0)\n",
        "gph_mhw1_c /= gph_mhw1_c.std(axis=0)\n",
        "\n",
        "A = cca.x_weights_\n",
        "B = cca.y_weights_\n",
        "A = np.reshape(A, (nrow_ivt,ncol_ivt), order='F')\n",
        "\n",
        "BB = np.ones([nrow_gph*ncol_gph, 1])\n",
        "BB = BB.astype(B.dtype)\n",
        "BB = BB.reshape([nrow_gph,ncol_gph], order='F')"
      ],
      "metadata": {
        "id": "rGGBFwFfAkcw"
      },
      "execution_count": null,
      "outputs": []
    }
  ]
}